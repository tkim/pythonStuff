{
 "metadata": {
  "language_info": {
   "codemirror_mode": {
    "name": "ipython",
    "version": 3
   },
   "file_extension": ".py",
   "mimetype": "text/x-python",
   "name": "python",
   "nbconvert_exporter": "python",
   "pygments_lexer": "ipython3",
   "version": "3.8.9"
  },
  "orig_nbformat": 2,
  "kernelspec": {
   "name": "python389jvsc74a57bd02db524e06e9f5f4ffedc911c917cb75e12dbc923643829bf417064a77eb14d37",
   "display_name": "Python 3.8.9 64-bit"
  }
 },
 "nbformat": 4,
 "nbformat_minor": 2,
 "cells": [
  {
   "cell_type": "code",
   "execution_count": 1,
   "metadata": {},
   "outputs": [],
   "source": [
    "import numpy as np \n",
    "import pandas as pd \n",
    "import requests\n",
    "import xlsxwriter\n",
    "import math\n",
    "from scipy import stats"
   ]
  },
  {
   "cell_type": "code",
   "execution_count": 2,
   "metadata": {},
   "outputs": [],
   "source": [
    "stocks = pd.read_csv('sp500.csv')\n",
    "from secrets import IEX_CLOUD_API_TOKEN"
   ]
  },
  {
   "cell_type": "code",
   "execution_count": 3,
   "metadata": {},
   "outputs": [
    {
     "output_type": "execute_result",
     "data": {
      "text/plain": [
       "{'companyName': 'Apple Inc',\n",
       " 'marketcap': 2261348771213,\n",
       " 'week52high': 152.05,\n",
       " 'week52low': 69.6,\n",
       " 'week52highSplitAdjustOnly': 146.27,\n",
       " 'week52lowSplitAdjustOnly': 69.87,\n",
       " 'week52change': 0.988859866139843,\n",
       " 'sharesOutstanding': 17354475576,\n",
       " 'float': 0,\n",
       " 'avg10Volume': 90785968,\n",
       " 'avg30Volume': 91481945,\n",
       " 'day200MovingAvg': 128.1,\n",
       " 'day50MovingAvg': 126.59,\n",
       " 'employees': 147755,\n",
       " 'ttmEPS': 3.83,\n",
       " 'ttmDividendRate': 0.8418319530781752,\n",
       " 'dividendYield': 0.006393787357769461,\n",
       " 'nextDividendDate': '0',\n",
       " 'exDividendDate': '2021-01-21',\n",
       " 'nextEarningsDate': '2021-04-22',\n",
       " 'peRatio': 36.37826721207324,\n",
       " 'beta': 1.3412874978141784,\n",
       " 'maxChangePercent': 51.70809339895707,\n",
       " 'year5ChangePercent': 4.435342241960305,\n",
       " 'year2ChangePercent': 1.7268089883039712,\n",
       " 'year1ChangePercent': 1.037263676779998,\n",
       " 'ytdChangePercent': 0.007746172692538487,\n",
       " 'month6ChangePercent': 0.15321487737324974,\n",
       " 'month3ChangePercent': -0.024138841772197616,\n",
       " 'month1ChangePercent': 0.11717689660667369,\n",
       " 'day30ChangePercent': 0.08589659826063058,\n",
       " 'day5ChangePercent': 0.011196189397403767}"
      ]
     },
     "metadata": {},
     "execution_count": 3
    }
   ],
   "source": [
    "symbol = 'AAPL'\n",
    "api_url = f'https://sandbox.iexapis.com/stable/stock/{symbol}/stats?token={IEX_CLOUD_API_TOKEN}'\n",
    "data = requests.get(api_url).json()\n",
    "data"
   ]
  },
  {
   "cell_type": "code",
   "execution_count": 4,
   "metadata": {},
   "outputs": [
    {
     "output_type": "execute_result",
     "data": {
      "text/plain": [
       "1.037263676779998"
      ]
     },
     "metadata": {},
     "execution_count": 4
    }
   ],
   "source": [
    "data['year1ChangePercent']"
   ]
  },
  {
   "source": [
    "Build DataFrame using IEX API\n"
   ],
   "cell_type": "markdown",
   "metadata": {}
  },
  {
   "cell_type": "code",
   "execution_count": 6,
   "metadata": {},
   "outputs": [],
   "source": [
    "def chunks(lst, n):\n",
    "    # Yield successive n-sized chunks from lst.\n",
    "    for i in range(0, len(lst), n):\n",
    "        yield lst[i:i +n]\n",
    "\n",
    "symbol_groups = list(chunks(stocks['Ticker'], 100))\n",
    "symbol_strings = []\n",
    "for i in range(0, len(symbol_groups)):\n",
    "    symbol_strings.append(','.join(symbol_groups[i]))\n",
    "    #print(symbol_strings[i])\n",
    "my_columns = ['Ticker', 'Price', 'One-Year Price Return', 'Number of Shares to Buy']"
   ]
  },
  {
   "cell_type": "code",
   "execution_count": 11,
   "metadata": {},
   "outputs": [
    {
     "output_type": "execute_result",
     "data": {
      "text/plain": [
       "    Ticker   Price One-Year Price Return Number of Shares to Buy\n",
       "0        A  134.81              0.845105                     N/A\n",
       "1      AAL   20.13               0.92413                     N/A\n",
       "2      AAP  205.30              0.777517                     N/A\n",
       "3     AAPL  132.17              1.050089                     N/A\n",
       "4     ABBV  113.23              0.460294                     N/A\n",
       "..     ...     ...                   ...                     ...\n",
       "500    YUM  120.99              0.477113                     N/A\n",
       "501    ZBH  179.87              0.615517                     N/A\n",
       "502   ZBRA  500.62              1.566318                     N/A\n",
       "503   ZION   53.77              0.983632                     N/A\n",
       "504    ZTS  175.34               0.38073                     N/A\n",
       "\n",
       "[505 rows x 4 columns]"
      ],
      "text/html": "<div>\n<style scoped>\n    .dataframe tbody tr th:only-of-type {\n        vertical-align: middle;\n    }\n\n    .dataframe tbody tr th {\n        vertical-align: top;\n    }\n\n    .dataframe thead th {\n        text-align: right;\n    }\n</style>\n<table border=\"1\" class=\"dataframe\">\n  <thead>\n    <tr style=\"text-align: right;\">\n      <th></th>\n      <th>Ticker</th>\n      <th>Price</th>\n      <th>One-Year Price Return</th>\n      <th>Number of Shares to Buy</th>\n    </tr>\n  </thead>\n  <tbody>\n    <tr>\n      <th>0</th>\n      <td>A</td>\n      <td>134.81</td>\n      <td>0.845105</td>\n      <td>N/A</td>\n    </tr>\n    <tr>\n      <th>1</th>\n      <td>AAL</td>\n      <td>20.13</td>\n      <td>0.92413</td>\n      <td>N/A</td>\n    </tr>\n    <tr>\n      <th>2</th>\n      <td>AAP</td>\n      <td>205.30</td>\n      <td>0.777517</td>\n      <td>N/A</td>\n    </tr>\n    <tr>\n      <th>3</th>\n      <td>AAPL</td>\n      <td>132.17</td>\n      <td>1.050089</td>\n      <td>N/A</td>\n    </tr>\n    <tr>\n      <th>4</th>\n      <td>ABBV</td>\n      <td>113.23</td>\n      <td>0.460294</td>\n      <td>N/A</td>\n    </tr>\n    <tr>\n      <th>...</th>\n      <td>...</td>\n      <td>...</td>\n      <td>...</td>\n      <td>...</td>\n    </tr>\n    <tr>\n      <th>500</th>\n      <td>YUM</td>\n      <td>120.99</td>\n      <td>0.477113</td>\n      <td>N/A</td>\n    </tr>\n    <tr>\n      <th>501</th>\n      <td>ZBH</td>\n      <td>179.87</td>\n      <td>0.615517</td>\n      <td>N/A</td>\n    </tr>\n    <tr>\n      <th>502</th>\n      <td>ZBRA</td>\n      <td>500.62</td>\n      <td>1.566318</td>\n      <td>N/A</td>\n    </tr>\n    <tr>\n      <th>503</th>\n      <td>ZION</td>\n      <td>53.77</td>\n      <td>0.983632</td>\n      <td>N/A</td>\n    </tr>\n    <tr>\n      <th>504</th>\n      <td>ZTS</td>\n      <td>175.34</td>\n      <td>0.38073</td>\n      <td>N/A</td>\n    </tr>\n  </tbody>\n</table>\n<p>505 rows × 4 columns</p>\n</div>"
     },
     "metadata": {},
     "execution_count": 11
    }
   ],
   "source": [
    "final_dataframe = pd.DataFrame(columns=my_columns)\n",
    "\n",
    "for symbol_string in symbol_strings:\n",
    "    #print(symbol_strings)\n",
    "    batch_api_call_url = f'https://sandbox.iexapis.com/stable/stock/market/batch/?types=stats,quote&symbols={symbol_string}&token={IEX_CLOUD_API_TOKEN}'\n",
    "    data = requests.get(batch_api_call_url).json()\n",
    "    for symbol in symbol_string.split(','):\n",
    "        final_dataframe = final_dataframe.append(\n",
    "            pd.Series([symbol,\n",
    "                        data[symbol]['quote']['latestPrice'],\n",
    "                        data[symbol]['stats']['year1ChangePercent'],\n",
    "                        'N/A'\n",
    "                        ],\n",
    "                        index = my_columns),\n",
    "            ignore_index=True)\n",
    "\n",
    "final_dataframe"
   ]
  },
  {
   "source": [
    "Remove low-momentum stocks. <br>\n",
    "Identify the 50 highest-momentum stocks in the S&P 500.\n"
   ],
   "cell_type": "markdown",
   "metadata": {}
  },
  {
   "cell_type": "code",
   "execution_count": 12,
   "metadata": {},
   "outputs": [
    {
     "output_type": "execute_result",
     "data": {
      "text/plain": [
       "   Ticker   Price One-Year Price Return Number of Shares to Buy\n",
       "0      LB   66.45              4.422185                     N/A\n",
       "1     FCX   34.99              4.002034                     N/A\n",
       "2     GPS   34.52              3.382942                     N/A\n",
       "3     KSS   59.61              2.696565                     N/A\n",
       "4     TPR   45.60              2.372055                     N/A\n",
       "5    ALGN  624.40               2.30527                     N/A\n",
       "6    NWSA   28.09              2.288817                     N/A\n",
       "7     URI  315.94              2.271603                     N/A\n",
       "8    SIVB  532.90              2.213708                     N/A\n",
       "9     MGM   41.04              2.193409                     N/A\n",
       "10    MOS   34.55              2.145116                     N/A\n",
       "11    IVZ   26.08              2.111922                     N/A\n",
       "12    HWM   32.00              2.104865                     N/A\n",
       "13   EXPE  181.52              2.079549                     N/A\n",
       "14   CARR   44.81              2.031532                     N/A\n",
       "15    NWS   25.12              2.021882                     N/A\n",
       "16    DFS   99.70              1.971723                     N/A\n",
       "17    PWR   99.28              1.968115                     N/A\n",
       "18     DE  384.43              1.900996                     N/A\n",
       "19   AMAT  137.99              1.882659                     N/A\n",
       "20    SYF   40.51              1.820565                     N/A\n",
       "21    PVH  107.69              1.803147                     N/A\n",
       "22   VIAC   41.74              1.779339                     N/A\n",
       "23    MHK  202.95              1.775215                     N/A\n",
       "24     GM   59.00              1.756838                     N/A\n",
       "25    ALB  159.50              1.715452                     N/A\n",
       "26   NCLH   30.00              1.703623                     N/A\n",
       "27   LRCX  619.36              1.687057                     N/A\n",
       "28    HAL   20.05              1.660398                     N/A\n",
       "29   TWTR   64.32              1.654932                     N/A\n",
       "30    COF  138.00              1.625532                     N/A\n",
       "31    LEN  103.69              1.573812                     N/A\n",
       "32   ZBRA  500.62              1.566318                     N/A\n",
       "33     PH  323.07               1.53903                     N/A\n",
       "34   PYPL  267.55              1.527099                     N/A\n",
       "35   FANG   76.01              1.524409                     N/A\n",
       "36    KIM   20.45              1.524398                     N/A\n",
       "37    HBI   21.18               1.51283                     N/A\n",
       "38    DVN   21.00              1.510371                     N/A\n",
       "39    CMA   69.85              1.503326                     N/A\n",
       "40    AMP  247.30              1.499321                     N/A\n",
       "41    DHI   98.20               1.49872                     N/A\n",
       "42    RCL   86.31              1.493375                     N/A\n",
       "43    GLW   47.86              1.491576                     N/A\n",
       "44     RF   21.05              1.479515                     N/A\n",
       "45    MRO   10.68              1.476169                     N/A\n",
       "46    WHR  238.27              1.473879                     N/A\n",
       "47    LNC   64.32              1.470377                     N/A\n",
       "48      F   12.12              1.470069                     N/A\n",
       "49    LYB  104.00              1.460961                     N/A\n",
       "50   FITB   37.25              1.455998                     N/A"
      ],
      "text/html": "<div>\n<style scoped>\n    .dataframe tbody tr th:only-of-type {\n        vertical-align: middle;\n    }\n\n    .dataframe tbody tr th {\n        vertical-align: top;\n    }\n\n    .dataframe thead th {\n        text-align: right;\n    }\n</style>\n<table border=\"1\" class=\"dataframe\">\n  <thead>\n    <tr style=\"text-align: right;\">\n      <th></th>\n      <th>Ticker</th>\n      <th>Price</th>\n      <th>One-Year Price Return</th>\n      <th>Number of Shares to Buy</th>\n    </tr>\n  </thead>\n  <tbody>\n    <tr>\n      <th>0</th>\n      <td>LB</td>\n      <td>66.45</td>\n      <td>4.422185</td>\n      <td>N/A</td>\n    </tr>\n    <tr>\n      <th>1</th>\n      <td>FCX</td>\n      <td>34.99</td>\n      <td>4.002034</td>\n      <td>N/A</td>\n    </tr>\n    <tr>\n      <th>2</th>\n      <td>GPS</td>\n      <td>34.52</td>\n      <td>3.382942</td>\n      <td>N/A</td>\n    </tr>\n    <tr>\n      <th>3</th>\n      <td>KSS</td>\n      <td>59.61</td>\n      <td>2.696565</td>\n      <td>N/A</td>\n    </tr>\n    <tr>\n      <th>4</th>\n      <td>TPR</td>\n      <td>45.60</td>\n      <td>2.372055</td>\n      <td>N/A</td>\n    </tr>\n    <tr>\n      <th>5</th>\n      <td>ALGN</td>\n      <td>624.40</td>\n      <td>2.30527</td>\n      <td>N/A</td>\n    </tr>\n    <tr>\n      <th>6</th>\n      <td>NWSA</td>\n      <td>28.09</td>\n      <td>2.288817</td>\n      <td>N/A</td>\n    </tr>\n    <tr>\n      <th>7</th>\n      <td>URI</td>\n      <td>315.94</td>\n      <td>2.271603</td>\n      <td>N/A</td>\n    </tr>\n    <tr>\n      <th>8</th>\n      <td>SIVB</td>\n      <td>532.90</td>\n      <td>2.213708</td>\n      <td>N/A</td>\n    </tr>\n    <tr>\n      <th>9</th>\n      <td>MGM</td>\n      <td>41.04</td>\n      <td>2.193409</td>\n      <td>N/A</td>\n    </tr>\n    <tr>\n      <th>10</th>\n      <td>MOS</td>\n      <td>34.55</td>\n      <td>2.145116</td>\n      <td>N/A</td>\n    </tr>\n    <tr>\n      <th>11</th>\n      <td>IVZ</td>\n      <td>26.08</td>\n      <td>2.111922</td>\n      <td>N/A</td>\n    </tr>\n    <tr>\n      <th>12</th>\n      <td>HWM</td>\n      <td>32.00</td>\n      <td>2.104865</td>\n      <td>N/A</td>\n    </tr>\n    <tr>\n      <th>13</th>\n      <td>EXPE</td>\n      <td>181.52</td>\n      <td>2.079549</td>\n      <td>N/A</td>\n    </tr>\n    <tr>\n      <th>14</th>\n      <td>CARR</td>\n      <td>44.81</td>\n      <td>2.031532</td>\n      <td>N/A</td>\n    </tr>\n    <tr>\n      <th>15</th>\n      <td>NWS</td>\n      <td>25.12</td>\n      <td>2.021882</td>\n      <td>N/A</td>\n    </tr>\n    <tr>\n      <th>16</th>\n      <td>DFS</td>\n      <td>99.70</td>\n      <td>1.971723</td>\n      <td>N/A</td>\n    </tr>\n    <tr>\n      <th>17</th>\n      <td>PWR</td>\n      <td>99.28</td>\n      <td>1.968115</td>\n      <td>N/A</td>\n    </tr>\n    <tr>\n      <th>18</th>\n      <td>DE</td>\n      <td>384.43</td>\n      <td>1.900996</td>\n      <td>N/A</td>\n    </tr>\n    <tr>\n      <th>19</th>\n      <td>AMAT</td>\n      <td>137.99</td>\n      <td>1.882659</td>\n      <td>N/A</td>\n    </tr>\n    <tr>\n      <th>20</th>\n      <td>SYF</td>\n      <td>40.51</td>\n      <td>1.820565</td>\n      <td>N/A</td>\n    </tr>\n    <tr>\n      <th>21</th>\n      <td>PVH</td>\n      <td>107.69</td>\n      <td>1.803147</td>\n      <td>N/A</td>\n    </tr>\n    <tr>\n      <th>22</th>\n      <td>VIAC</td>\n      <td>41.74</td>\n      <td>1.779339</td>\n      <td>N/A</td>\n    </tr>\n    <tr>\n      <th>23</th>\n      <td>MHK</td>\n      <td>202.95</td>\n      <td>1.775215</td>\n      <td>N/A</td>\n    </tr>\n    <tr>\n      <th>24</th>\n      <td>GM</td>\n      <td>59.00</td>\n      <td>1.756838</td>\n      <td>N/A</td>\n    </tr>\n    <tr>\n      <th>25</th>\n      <td>ALB</td>\n      <td>159.50</td>\n      <td>1.715452</td>\n      <td>N/A</td>\n    </tr>\n    <tr>\n      <th>26</th>\n      <td>NCLH</td>\n      <td>30.00</td>\n      <td>1.703623</td>\n      <td>N/A</td>\n    </tr>\n    <tr>\n      <th>27</th>\n      <td>LRCX</td>\n      <td>619.36</td>\n      <td>1.687057</td>\n      <td>N/A</td>\n    </tr>\n    <tr>\n      <th>28</th>\n      <td>HAL</td>\n      <td>20.05</td>\n      <td>1.660398</td>\n      <td>N/A</td>\n    </tr>\n    <tr>\n      <th>29</th>\n      <td>TWTR</td>\n      <td>64.32</td>\n      <td>1.654932</td>\n      <td>N/A</td>\n    </tr>\n    <tr>\n      <th>30</th>\n      <td>COF</td>\n      <td>138.00</td>\n      <td>1.625532</td>\n      <td>N/A</td>\n    </tr>\n    <tr>\n      <th>31</th>\n      <td>LEN</td>\n      <td>103.69</td>\n      <td>1.573812</td>\n      <td>N/A</td>\n    </tr>\n    <tr>\n      <th>32</th>\n      <td>ZBRA</td>\n      <td>500.62</td>\n      <td>1.566318</td>\n      <td>N/A</td>\n    </tr>\n    <tr>\n      <th>33</th>\n      <td>PH</td>\n      <td>323.07</td>\n      <td>1.53903</td>\n      <td>N/A</td>\n    </tr>\n    <tr>\n      <th>34</th>\n      <td>PYPL</td>\n      <td>267.55</td>\n      <td>1.527099</td>\n      <td>N/A</td>\n    </tr>\n    <tr>\n      <th>35</th>\n      <td>FANG</td>\n      <td>76.01</td>\n      <td>1.524409</td>\n      <td>N/A</td>\n    </tr>\n    <tr>\n      <th>36</th>\n      <td>KIM</td>\n      <td>20.45</td>\n      <td>1.524398</td>\n      <td>N/A</td>\n    </tr>\n    <tr>\n      <th>37</th>\n      <td>HBI</td>\n      <td>21.18</td>\n      <td>1.51283</td>\n      <td>N/A</td>\n    </tr>\n    <tr>\n      <th>38</th>\n      <td>DVN</td>\n      <td>21.00</td>\n      <td>1.510371</td>\n      <td>N/A</td>\n    </tr>\n    <tr>\n      <th>39</th>\n      <td>CMA</td>\n      <td>69.85</td>\n      <td>1.503326</td>\n      <td>N/A</td>\n    </tr>\n    <tr>\n      <th>40</th>\n      <td>AMP</td>\n      <td>247.30</td>\n      <td>1.499321</td>\n      <td>N/A</td>\n    </tr>\n    <tr>\n      <th>41</th>\n      <td>DHI</td>\n      <td>98.20</td>\n      <td>1.49872</td>\n      <td>N/A</td>\n    </tr>\n    <tr>\n      <th>42</th>\n      <td>RCL</td>\n      <td>86.31</td>\n      <td>1.493375</td>\n      <td>N/A</td>\n    </tr>\n    <tr>\n      <th>43</th>\n      <td>GLW</td>\n      <td>47.86</td>\n      <td>1.491576</td>\n      <td>N/A</td>\n    </tr>\n    <tr>\n      <th>44</th>\n      <td>RF</td>\n      <td>21.05</td>\n      <td>1.479515</td>\n      <td>N/A</td>\n    </tr>\n    <tr>\n      <th>45</th>\n      <td>MRO</td>\n      <td>10.68</td>\n      <td>1.476169</td>\n      <td>N/A</td>\n    </tr>\n    <tr>\n      <th>46</th>\n      <td>WHR</td>\n      <td>238.27</td>\n      <td>1.473879</td>\n      <td>N/A</td>\n    </tr>\n    <tr>\n      <th>47</th>\n      <td>LNC</td>\n      <td>64.32</td>\n      <td>1.470377</td>\n      <td>N/A</td>\n    </tr>\n    <tr>\n      <th>48</th>\n      <td>F</td>\n      <td>12.12</td>\n      <td>1.470069</td>\n      <td>N/A</td>\n    </tr>\n    <tr>\n      <th>49</th>\n      <td>LYB</td>\n      <td>104.00</td>\n      <td>1.460961</td>\n      <td>N/A</td>\n    </tr>\n    <tr>\n      <th>50</th>\n      <td>FITB</td>\n      <td>37.25</td>\n      <td>1.455998</td>\n      <td>N/A</td>\n    </tr>\n  </tbody>\n</table>\n</div>"
     },
     "metadata": {},
     "execution_count": 12
    }
   ],
   "source": [
    "final_dataframe.sort_values('One-Year Price Return', ascending=False, inplace=True)\n",
    "final_dataframe = final_dataframe[:51]\n",
    "final_dataframe.reset_index(drop = True, inplace = True)\n",
    "final_dataframe"
   ]
  },
  {
   "cell_type": "code",
   "execution_count": null,
   "metadata": {},
   "outputs": [],
   "source": [
    "def portfolio_input():\n",
    "    global portfolio_size\n",
    "    portfolio_size = input(\"Enter the value of your portfolio: \")\n",
    "\n",
    "    try:\n",
    "        value = float(portfolio_size)\n",
    "    \n",
    "    except ValueError:\n",
    "        print(\"Please insert a number. \\n Try again: \")\n",
    "        portfolio_size = input(\"Enter the value of your portfolio: \")\n",
    "\n",
    "portfolio_input()\n",
    "print(portfolio_size)\n"
   ]
  },
  {
   "cell_type": "code",
   "execution_count": null,
   "metadata": {},
   "outputs": [],
   "source": [
    "position_size = float(portfolio_size) / len(final_dataframe.index)\n",
    "for i in range(0, len(final_dataframe['Ticker'])):\n",
    "    final_dataframe.loc[i, 'Number of shares to Buy'] = math.floor(position_size / final_dataframe['Price'][i])\n",
    "final_dataframe"
   ]
  },
  {
   "source": [
    "Build a realistic momentum strategy <br>\n",
    "Differentiate high quality vs low quality momentum stocks <br>"
   ],
   "cell_type": "markdown",
   "metadata": {}
  },
  {
   "cell_type": "code",
   "execution_count": null,
   "metadata": {},
   "outputs": [],
   "source": [
    "hqm_columns = [\n",
    "    'Ticker',\n",
    "    'Price',\n",
    "    'Number of Shares to Buy',\n",
    "    'One-Year Price Return',\n",
    "    'One-Year Return Percentile',\n",
    "    'Six-Month Price Return',\n",
    "    'Six-Month Return Percentile',\n",
    "    'Three-Month Price Return',\n",
    "    'Three-Month Return Percentile',\n",
    "    'One-Month Price Return',\n",
    "    'One-Month Return Percentile',\n",
    "    'HQM Score'\n",
    "]\n",
    "\n",
    "hqm_dataframe = pd.DataFrame(columns = hqm_columns)\n",
    "\n",
    "for symbol_strin in symbol_strings:\n",
    "    "
   ]
  }
 ]
}