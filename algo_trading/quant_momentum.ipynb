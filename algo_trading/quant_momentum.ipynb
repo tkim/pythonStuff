{
 "metadata": {
  "language_info": {
   "codemirror_mode": {
    "name": "ipython",
    "version": 3
   },
   "file_extension": ".py",
   "mimetype": "text/x-python",
   "name": "python",
   "nbconvert_exporter": "python",
   "pygments_lexer": "ipython3",
   "version": "3.8.9"
  },
  "orig_nbformat": 2,
  "kernelspec": {
   "name": "python389jvsc74a57bd02db524e06e9f5f4ffedc911c917cb75e12dbc923643829bf417064a77eb14d37",
   "display_name": "Python 3.8.9 64-bit"
  }
 },
 "nbformat": 4,
 "nbformat_minor": 2,
 "cells": [
  {
   "cell_type": "code",
   "execution_count": 1,
   "metadata": {},
   "outputs": [],
   "source": [
    "import numpy as np \n",
    "import pandas as pd \n",
    "import requests\n",
    "import xlsxwriter\n",
    "import math\n",
    "from scipy import stats"
   ]
  },
  {
   "cell_type": "code",
   "execution_count": 2,
   "metadata": {},
   "outputs": [],
   "source": [
    "stocks = pd.read_csv('sp500.csv')\n",
    "from secrets import IEX_CLOUD_API_TOKEN"
   ]
  },
  {
   "cell_type": "code",
   "execution_count": 3,
   "metadata": {},
   "outputs": [
    {
     "output_type": "execute_result",
     "data": {
      "text/plain": [
       "{'companyName': 'Apple Inc',\n",
       " 'marketcap': 2261348771213,\n",
       " 'week52high': 152.05,\n",
       " 'week52low': 69.6,\n",
       " 'week52highSplitAdjustOnly': 146.27,\n",
       " 'week52lowSplitAdjustOnly': 69.87,\n",
       " 'week52change': 0.988859866139843,\n",
       " 'sharesOutstanding': 17354475576,\n",
       " 'float': 0,\n",
       " 'avg10Volume': 90785968,\n",
       " 'avg30Volume': 91481945,\n",
       " 'day200MovingAvg': 128.1,\n",
       " 'day50MovingAvg': 126.59,\n",
       " 'employees': 147755,\n",
       " 'ttmEPS': 3.83,\n",
       " 'ttmDividendRate': 0.8418319530781752,\n",
       " 'dividendYield': 0.006393787357769461,\n",
       " 'nextDividendDate': '0',\n",
       " 'exDividendDate': '2021-01-21',\n",
       " 'nextEarningsDate': '2021-04-22',\n",
       " 'peRatio': 36.37826721207324,\n",
       " 'beta': 1.3412874978141784,\n",
       " 'maxChangePercent': 51.70809339895707,\n",
       " 'year5ChangePercent': 4.435342241960305,\n",
       " 'year2ChangePercent': 1.7268089883039712,\n",
       " 'year1ChangePercent': 1.037263676779998,\n",
       " 'ytdChangePercent': 0.007746172692538487,\n",
       " 'month6ChangePercent': 0.15321487737324974,\n",
       " 'month3ChangePercent': -0.024138841772197616,\n",
       " 'month1ChangePercent': 0.11717689660667369,\n",
       " 'day30ChangePercent': 0.08589659826063058,\n",
       " 'day5ChangePercent': 0.011196189397403767}"
      ]
     },
     "metadata": {},
     "execution_count": 3
    }
   ],
   "source": [
    "symbol = 'AAPL'\n",
    "api_url = f'https://sandbox.iexapis.com/stable/stock/{symbol}/stats?token={IEX_CLOUD_API_TOKEN}'\n",
    "data = requests.get(api_url).json()\n",
    "data"
   ]
  },
  {
   "cell_type": "code",
   "execution_count": null,
   "metadata": {},
   "outputs": [],
   "source": []
  }
 ]
}